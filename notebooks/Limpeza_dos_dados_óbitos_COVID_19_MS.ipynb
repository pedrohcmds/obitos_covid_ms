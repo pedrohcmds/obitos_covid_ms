{
  "nbformat": 4,
  "nbformat_minor": 0,
  "metadata": {
    "colab": {
      "name": "Limpeza dos dados óbitos COVID-19 MS",
      "provenance": [],
      "authorship_tag": "ABX9TyPabI16YRB/9tozagsv2qJi",
      "include_colab_link": true
    },
    "kernelspec": {
      "name": "python3",
      "display_name": "Python 3"
    },
    "language_info": {
      "name": "python"
    }
  },
  "cells": [
    {
      "cell_type": "markdown",
      "metadata": {
        "id": "view-in-github",
        "colab_type": "text"
      },
      "source": [
        "<a href=\"https://colab.research.google.com/github/pedrohcmds/obitos_covid_ms/blob/main/notebooks/Limpeza_dos_dados_%C3%B3bitos_COVID_19_MS.ipynb\" target=\"_parent\"><img src=\"https://colab.research.google.com/assets/colab-badge.svg\" alt=\"Open In Colab\"/></a>"
      ]
    },
    {
      "cell_type": "markdown",
      "metadata": {
        "id": "Aurr3YfQYa-Q"
      },
      "source": [
        "# Importando Bibliotecas"
      ]
    },
    {
      "cell_type": "code",
      "metadata": {
        "id": "xmHK1XkuXdms"
      },
      "source": [
        "import pandas as pd"
      ],
      "execution_count": 41,
      "outputs": []
    },
    {
      "cell_type": "markdown",
      "metadata": {
        "id": "JUFVd6s4YelE"
      },
      "source": [
        "# Importando Dados"
      ]
    },
    {
      "cell_type": "code",
      "metadata": {
        "id": "cbAZJoW-XlTu"
      },
      "source": [
        "dados = pd.read_csv('https://raw.githubusercontent.com/pedrohcmds/obitos_covid_ms/main/dados/obito_cartorio.csv')"
      ],
      "execution_count": 42,
      "outputs": []
    },
    {
      "cell_type": "markdown",
      "metadata": {
        "id": "45nfAbwiYhym"
      },
      "source": [
        "# Verificando integridade dos dados"
      ]
    },
    {
      "cell_type": "code",
      "metadata": {
        "colab": {
          "base_uri": "https://localhost:8080/",
          "height": 309
        },
        "id": "-KD-TcXrX-O_",
        "outputId": "13ec5e5b-e073-4787-fae6-240c818c8b73"
      },
      "source": [
        "dados.head()"
      ],
      "execution_count": 43,
      "outputs": [
        {
          "output_type": "execute_result",
          "data": {
            "text/html": [
              "<div>\n",
              "<style scoped>\n",
              "    .dataframe tbody tr th:only-of-type {\n",
              "        vertical-align: middle;\n",
              "    }\n",
              "\n",
              "    .dataframe tbody tr th {\n",
              "        vertical-align: top;\n",
              "    }\n",
              "\n",
              "    .dataframe thead th {\n",
              "        text-align: right;\n",
              "    }\n",
              "</style>\n",
              "<table border=\"1\" class=\"dataframe\">\n",
              "  <thead>\n",
              "    <tr style=\"text-align: right;\">\n",
              "      <th></th>\n",
              "      <th>date</th>\n",
              "      <th>state</th>\n",
              "      <th>epidemiological_week_2019</th>\n",
              "      <th>epidemiological_week_2020</th>\n",
              "      <th>deaths_indeterminate_2019</th>\n",
              "      <th>deaths_respiratory_failure_2019</th>\n",
              "      <th>deaths_others_2019</th>\n",
              "      <th>deaths_pneumonia_2019</th>\n",
              "      <th>deaths_septicemia_2019</th>\n",
              "      <th>deaths_sars_2019</th>\n",
              "      <th>deaths_covid19</th>\n",
              "      <th>deaths_indeterminate_2020</th>\n",
              "      <th>deaths_respiratory_failure_2020</th>\n",
              "      <th>deaths_others_2020</th>\n",
              "      <th>deaths_pneumonia_2020</th>\n",
              "      <th>deaths_septicemia_2020</th>\n",
              "      <th>deaths_sars_2020</th>\n",
              "      <th>deaths_total_2019</th>\n",
              "      <th>deaths_total_2020</th>\n",
              "      <th>new_deaths_indeterminate_2019</th>\n",
              "      <th>new_deaths_respiratory_failure_2019</th>\n",
              "      <th>new_deaths_others_2019</th>\n",
              "      <th>new_deaths_pneumonia_2019</th>\n",
              "      <th>new_deaths_septicemia_2019</th>\n",
              "      <th>new_deaths_sars_2019</th>\n",
              "      <th>new_deaths_covid19</th>\n",
              "      <th>new_deaths_indeterminate_2020</th>\n",
              "      <th>new_deaths_respiratory_failure_2020</th>\n",
              "      <th>new_deaths_others_2020</th>\n",
              "      <th>new_deaths_pneumonia_2020</th>\n",
              "      <th>new_deaths_septicemia_2020</th>\n",
              "      <th>new_deaths_sars_2020</th>\n",
              "      <th>new_deaths_total_2019</th>\n",
              "      <th>new_deaths_total_2020</th>\n",
              "    </tr>\n",
              "  </thead>\n",
              "  <tbody>\n",
              "    <tr>\n",
              "      <th>0</th>\n",
              "      <td>2020-01-01</td>\n",
              "      <td>AC</td>\n",
              "      <td>1</td>\n",
              "      <td>1</td>\n",
              "      <td>0</td>\n",
              "      <td>2</td>\n",
              "      <td>4</td>\n",
              "      <td>3</td>\n",
              "      <td>1</td>\n",
              "      <td>0</td>\n",
              "      <td>0</td>\n",
              "      <td>1</td>\n",
              "      <td>1</td>\n",
              "      <td>8</td>\n",
              "      <td>2</td>\n",
              "      <td>2</td>\n",
              "      <td>0</td>\n",
              "      <td>10</td>\n",
              "      <td>14</td>\n",
              "      <td>NaN</td>\n",
              "      <td>2.0</td>\n",
              "      <td>4.0</td>\n",
              "      <td>3.0</td>\n",
              "      <td>1.0</td>\n",
              "      <td>NaN</td>\n",
              "      <td>NaN</td>\n",
              "      <td>1.0</td>\n",
              "      <td>1.0</td>\n",
              "      <td>8.0</td>\n",
              "      <td>2.0</td>\n",
              "      <td>2.0</td>\n",
              "      <td>NaN</td>\n",
              "      <td>10</td>\n",
              "      <td>14</td>\n",
              "    </tr>\n",
              "    <tr>\n",
              "      <th>1</th>\n",
              "      <td>2020-01-02</td>\n",
              "      <td>AC</td>\n",
              "      <td>1</td>\n",
              "      <td>1</td>\n",
              "      <td>0</td>\n",
              "      <td>2</td>\n",
              "      <td>10</td>\n",
              "      <td>3</td>\n",
              "      <td>2</td>\n",
              "      <td>0</td>\n",
              "      <td>0</td>\n",
              "      <td>1</td>\n",
              "      <td>1</td>\n",
              "      <td>14</td>\n",
              "      <td>4</td>\n",
              "      <td>4</td>\n",
              "      <td>0</td>\n",
              "      <td>17</td>\n",
              "      <td>24</td>\n",
              "      <td>NaN</td>\n",
              "      <td>NaN</td>\n",
              "      <td>6.0</td>\n",
              "      <td>NaN</td>\n",
              "      <td>1.0</td>\n",
              "      <td>NaN</td>\n",
              "      <td>NaN</td>\n",
              "      <td>NaN</td>\n",
              "      <td>NaN</td>\n",
              "      <td>6.0</td>\n",
              "      <td>2.0</td>\n",
              "      <td>2.0</td>\n",
              "      <td>NaN</td>\n",
              "      <td>7</td>\n",
              "      <td>10</td>\n",
              "    </tr>\n",
              "    <tr>\n",
              "      <th>2</th>\n",
              "      <td>2020-01-03</td>\n",
              "      <td>AC</td>\n",
              "      <td>1</td>\n",
              "      <td>1</td>\n",
              "      <td>0</td>\n",
              "      <td>2</td>\n",
              "      <td>16</td>\n",
              "      <td>3</td>\n",
              "      <td>4</td>\n",
              "      <td>0</td>\n",
              "      <td>0</td>\n",
              "      <td>1</td>\n",
              "      <td>1</td>\n",
              "      <td>22</td>\n",
              "      <td>7</td>\n",
              "      <td>6</td>\n",
              "      <td>0</td>\n",
              "      <td>25</td>\n",
              "      <td>37</td>\n",
              "      <td>NaN</td>\n",
              "      <td>NaN</td>\n",
              "      <td>6.0</td>\n",
              "      <td>NaN</td>\n",
              "      <td>2.0</td>\n",
              "      <td>NaN</td>\n",
              "      <td>NaN</td>\n",
              "      <td>NaN</td>\n",
              "      <td>NaN</td>\n",
              "      <td>8.0</td>\n",
              "      <td>3.0</td>\n",
              "      <td>2.0</td>\n",
              "      <td>NaN</td>\n",
              "      <td>8</td>\n",
              "      <td>13</td>\n",
              "    </tr>\n",
              "    <tr>\n",
              "      <th>3</th>\n",
              "      <td>2020-01-04</td>\n",
              "      <td>AC</td>\n",
              "      <td>1</td>\n",
              "      <td>1</td>\n",
              "      <td>0</td>\n",
              "      <td>2</td>\n",
              "      <td>18</td>\n",
              "      <td>6</td>\n",
              "      <td>5</td>\n",
              "      <td>0</td>\n",
              "      <td>0</td>\n",
              "      <td>1</td>\n",
              "      <td>2</td>\n",
              "      <td>26</td>\n",
              "      <td>7</td>\n",
              "      <td>7</td>\n",
              "      <td>0</td>\n",
              "      <td>31</td>\n",
              "      <td>43</td>\n",
              "      <td>NaN</td>\n",
              "      <td>NaN</td>\n",
              "      <td>2.0</td>\n",
              "      <td>3.0</td>\n",
              "      <td>1.0</td>\n",
              "      <td>NaN</td>\n",
              "      <td>NaN</td>\n",
              "      <td>NaN</td>\n",
              "      <td>1.0</td>\n",
              "      <td>4.0</td>\n",
              "      <td>NaN</td>\n",
              "      <td>1.0</td>\n",
              "      <td>NaN</td>\n",
              "      <td>6</td>\n",
              "      <td>6</td>\n",
              "    </tr>\n",
              "    <tr>\n",
              "      <th>4</th>\n",
              "      <td>2020-01-05</td>\n",
              "      <td>AC</td>\n",
              "      <td>1</td>\n",
              "      <td>2</td>\n",
              "      <td>0</td>\n",
              "      <td>2</td>\n",
              "      <td>24</td>\n",
              "      <td>7</td>\n",
              "      <td>5</td>\n",
              "      <td>0</td>\n",
              "      <td>0</td>\n",
              "      <td>1</td>\n",
              "      <td>3</td>\n",
              "      <td>30</td>\n",
              "      <td>11</td>\n",
              "      <td>7</td>\n",
              "      <td>0</td>\n",
              "      <td>38</td>\n",
              "      <td>52</td>\n",
              "      <td>NaN</td>\n",
              "      <td>NaN</td>\n",
              "      <td>6.0</td>\n",
              "      <td>1.0</td>\n",
              "      <td>NaN</td>\n",
              "      <td>NaN</td>\n",
              "      <td>NaN</td>\n",
              "      <td>NaN</td>\n",
              "      <td>1.0</td>\n",
              "      <td>4.0</td>\n",
              "      <td>4.0</td>\n",
              "      <td>NaN</td>\n",
              "      <td>NaN</td>\n",
              "      <td>7</td>\n",
              "      <td>9</td>\n",
              "    </tr>\n",
              "  </tbody>\n",
              "</table>\n",
              "</div>"
            ],
            "text/plain": [
              "         date state  ...  new_deaths_total_2019  new_deaths_total_2020\n",
              "0  2020-01-01    AC  ...                     10                     14\n",
              "1  2020-01-02    AC  ...                      7                     10\n",
              "2  2020-01-03    AC  ...                      8                     13\n",
              "3  2020-01-04    AC  ...                      6                      6\n",
              "4  2020-01-05    AC  ...                      7                      9\n",
              "\n",
              "[5 rows x 34 columns]"
            ]
          },
          "metadata": {},
          "execution_count": 43
        }
      ]
    },
    {
      "cell_type": "code",
      "metadata": {
        "colab": {
          "base_uri": "https://localhost:8080/",
          "height": 309
        },
        "id": "jeZPT7LAYAA2",
        "outputId": "3d18b0bb-bb4c-4871-8477-4941ab992252"
      },
      "source": [
        "dados.tail()"
      ],
      "execution_count": 44,
      "outputs": [
        {
          "output_type": "execute_result",
          "data": {
            "text/html": [
              "<div>\n",
              "<style scoped>\n",
              "    .dataframe tbody tr th:only-of-type {\n",
              "        vertical-align: middle;\n",
              "    }\n",
              "\n",
              "    .dataframe tbody tr th {\n",
              "        vertical-align: top;\n",
              "    }\n",
              "\n",
              "    .dataframe thead th {\n",
              "        text-align: right;\n",
              "    }\n",
              "</style>\n",
              "<table border=\"1\" class=\"dataframe\">\n",
              "  <thead>\n",
              "    <tr style=\"text-align: right;\">\n",
              "      <th></th>\n",
              "      <th>date</th>\n",
              "      <th>state</th>\n",
              "      <th>epidemiological_week_2019</th>\n",
              "      <th>epidemiological_week_2020</th>\n",
              "      <th>deaths_indeterminate_2019</th>\n",
              "      <th>deaths_respiratory_failure_2019</th>\n",
              "      <th>deaths_others_2019</th>\n",
              "      <th>deaths_pneumonia_2019</th>\n",
              "      <th>deaths_septicemia_2019</th>\n",
              "      <th>deaths_sars_2019</th>\n",
              "      <th>deaths_covid19</th>\n",
              "      <th>deaths_indeterminate_2020</th>\n",
              "      <th>deaths_respiratory_failure_2020</th>\n",
              "      <th>deaths_others_2020</th>\n",
              "      <th>deaths_pneumonia_2020</th>\n",
              "      <th>deaths_septicemia_2020</th>\n",
              "      <th>deaths_sars_2020</th>\n",
              "      <th>deaths_total_2019</th>\n",
              "      <th>deaths_total_2020</th>\n",
              "      <th>new_deaths_indeterminate_2019</th>\n",
              "      <th>new_deaths_respiratory_failure_2019</th>\n",
              "      <th>new_deaths_others_2019</th>\n",
              "      <th>new_deaths_pneumonia_2019</th>\n",
              "      <th>new_deaths_septicemia_2019</th>\n",
              "      <th>new_deaths_sars_2019</th>\n",
              "      <th>new_deaths_covid19</th>\n",
              "      <th>new_deaths_indeterminate_2020</th>\n",
              "      <th>new_deaths_respiratory_failure_2020</th>\n",
              "      <th>new_deaths_others_2020</th>\n",
              "      <th>new_deaths_pneumonia_2020</th>\n",
              "      <th>new_deaths_septicemia_2020</th>\n",
              "      <th>new_deaths_sars_2020</th>\n",
              "      <th>new_deaths_total_2019</th>\n",
              "      <th>new_deaths_total_2020</th>\n",
              "    </tr>\n",
              "  </thead>\n",
              "  <tbody>\n",
              "    <tr>\n",
              "      <th>9877</th>\n",
              "      <td>2020-12-27</td>\n",
              "      <td>TO</td>\n",
              "      <td>52</td>\n",
              "      <td>53</td>\n",
              "      <td>48</td>\n",
              "      <td>450</td>\n",
              "      <td>3120</td>\n",
              "      <td>889</td>\n",
              "      <td>511</td>\n",
              "      <td>7</td>\n",
              "      <td>864</td>\n",
              "      <td>46</td>\n",
              "      <td>421</td>\n",
              "      <td>3031</td>\n",
              "      <td>747</td>\n",
              "      <td>540</td>\n",
              "      <td>24</td>\n",
              "      <td>5025</td>\n",
              "      <td>5673</td>\n",
              "      <td>NaN</td>\n",
              "      <td>NaN</td>\n",
              "      <td>9.0</td>\n",
              "      <td>4.0</td>\n",
              "      <td>1.0</td>\n",
              "      <td>NaN</td>\n",
              "      <td>3.0</td>\n",
              "      <td>NaN</td>\n",
              "      <td>NaN</td>\n",
              "      <td>1.0</td>\n",
              "      <td>NaN</td>\n",
              "      <td>NaN</td>\n",
              "      <td>NaN</td>\n",
              "      <td>14</td>\n",
              "      <td>4</td>\n",
              "    </tr>\n",
              "    <tr>\n",
              "      <th>9878</th>\n",
              "      <td>2020-12-28</td>\n",
              "      <td>TO</td>\n",
              "      <td>52</td>\n",
              "      <td>53</td>\n",
              "      <td>48</td>\n",
              "      <td>452</td>\n",
              "      <td>3127</td>\n",
              "      <td>891</td>\n",
              "      <td>512</td>\n",
              "      <td>7</td>\n",
              "      <td>865</td>\n",
              "      <td>46</td>\n",
              "      <td>421</td>\n",
              "      <td>3035</td>\n",
              "      <td>748</td>\n",
              "      <td>540</td>\n",
              "      <td>24</td>\n",
              "      <td>5037</td>\n",
              "      <td>5679</td>\n",
              "      <td>NaN</td>\n",
              "      <td>2.0</td>\n",
              "      <td>7.0</td>\n",
              "      <td>2.0</td>\n",
              "      <td>1.0</td>\n",
              "      <td>NaN</td>\n",
              "      <td>1.0</td>\n",
              "      <td>NaN</td>\n",
              "      <td>NaN</td>\n",
              "      <td>4.0</td>\n",
              "      <td>1.0</td>\n",
              "      <td>NaN</td>\n",
              "      <td>NaN</td>\n",
              "      <td>12</td>\n",
              "      <td>6</td>\n",
              "    </tr>\n",
              "    <tr>\n",
              "      <th>9879</th>\n",
              "      <td>2020-12-29</td>\n",
              "      <td>TO</td>\n",
              "      <td>1</td>\n",
              "      <td>53</td>\n",
              "      <td>48</td>\n",
              "      <td>452</td>\n",
              "      <td>3135</td>\n",
              "      <td>895</td>\n",
              "      <td>514</td>\n",
              "      <td>8</td>\n",
              "      <td>865</td>\n",
              "      <td>46</td>\n",
              "      <td>421</td>\n",
              "      <td>3036</td>\n",
              "      <td>748</td>\n",
              "      <td>540</td>\n",
              "      <td>24</td>\n",
              "      <td>5052</td>\n",
              "      <td>5680</td>\n",
              "      <td>NaN</td>\n",
              "      <td>NaN</td>\n",
              "      <td>8.0</td>\n",
              "      <td>4.0</td>\n",
              "      <td>2.0</td>\n",
              "      <td>1.0</td>\n",
              "      <td>NaN</td>\n",
              "      <td>NaN</td>\n",
              "      <td>NaN</td>\n",
              "      <td>1.0</td>\n",
              "      <td>NaN</td>\n",
              "      <td>NaN</td>\n",
              "      <td>NaN</td>\n",
              "      <td>15</td>\n",
              "      <td>1</td>\n",
              "    </tr>\n",
              "    <tr>\n",
              "      <th>9880</th>\n",
              "      <td>2020-12-30</td>\n",
              "      <td>TO</td>\n",
              "      <td>1</td>\n",
              "      <td>53</td>\n",
              "      <td>48</td>\n",
              "      <td>455</td>\n",
              "      <td>3145</td>\n",
              "      <td>897</td>\n",
              "      <td>515</td>\n",
              "      <td>8</td>\n",
              "      <td>865</td>\n",
              "      <td>46</td>\n",
              "      <td>421</td>\n",
              "      <td>3036</td>\n",
              "      <td>748</td>\n",
              "      <td>540</td>\n",
              "      <td>24</td>\n",
              "      <td>5068</td>\n",
              "      <td>5680</td>\n",
              "      <td>NaN</td>\n",
              "      <td>3.0</td>\n",
              "      <td>10.0</td>\n",
              "      <td>2.0</td>\n",
              "      <td>1.0</td>\n",
              "      <td>NaN</td>\n",
              "      <td>NaN</td>\n",
              "      <td>NaN</td>\n",
              "      <td>NaN</td>\n",
              "      <td>NaN</td>\n",
              "      <td>NaN</td>\n",
              "      <td>NaN</td>\n",
              "      <td>NaN</td>\n",
              "      <td>16</td>\n",
              "      <td>0</td>\n",
              "    </tr>\n",
              "    <tr>\n",
              "      <th>9881</th>\n",
              "      <td>2020-12-31</td>\n",
              "      <td>TO</td>\n",
              "      <td>1</td>\n",
              "      <td>53</td>\n",
              "      <td>48</td>\n",
              "      <td>456</td>\n",
              "      <td>3155</td>\n",
              "      <td>898</td>\n",
              "      <td>517</td>\n",
              "      <td>8</td>\n",
              "      <td>865</td>\n",
              "      <td>46</td>\n",
              "      <td>421</td>\n",
              "      <td>3036</td>\n",
              "      <td>748</td>\n",
              "      <td>540</td>\n",
              "      <td>24</td>\n",
              "      <td>5082</td>\n",
              "      <td>5680</td>\n",
              "      <td>NaN</td>\n",
              "      <td>1.0</td>\n",
              "      <td>10.0</td>\n",
              "      <td>1.0</td>\n",
              "      <td>2.0</td>\n",
              "      <td>NaN</td>\n",
              "      <td>NaN</td>\n",
              "      <td>NaN</td>\n",
              "      <td>NaN</td>\n",
              "      <td>NaN</td>\n",
              "      <td>NaN</td>\n",
              "      <td>NaN</td>\n",
              "      <td>NaN</td>\n",
              "      <td>14</td>\n",
              "      <td>0</td>\n",
              "    </tr>\n",
              "  </tbody>\n",
              "</table>\n",
              "</div>"
            ],
            "text/plain": [
              "            date state  ...  new_deaths_total_2019  new_deaths_total_2020\n",
              "9877  2020-12-27    TO  ...                     14                      4\n",
              "9878  2020-12-28    TO  ...                     12                      6\n",
              "9879  2020-12-29    TO  ...                     15                      1\n",
              "9880  2020-12-30    TO  ...                     16                      0\n",
              "9881  2020-12-31    TO  ...                     14                      0\n",
              "\n",
              "[5 rows x 34 columns]"
            ]
          },
          "metadata": {},
          "execution_count": 44
        }
      ]
    },
    {
      "cell_type": "markdown",
      "metadata": {
        "id": "feexukq8YndW"
      },
      "source": [
        "# Selecionando os Dados do Mato Grosso do Sul\n",
        "<center><img src=\"https://user-images.githubusercontent.com/37647139/133510771-5a1b6714-4d27-43ff-8ee1-8ed037f23163.png\" alt=\"Bandeira do Mato Grosso do Sul\" width=\"100\"/></center>\n",
        "\n"
      ]
    },
    {
      "cell_type": "code",
      "metadata": {
        "id": "llSKt3RBYEgv"
      },
      "source": [
        "dados_ms = dados.query('state == \"MS\"')"
      ],
      "execution_count": 45,
      "outputs": []
    },
    {
      "cell_type": "markdown",
      "metadata": {
        "id": "yNspnPGbY6-l"
      },
      "source": [
        "# Verificando dados duplicados"
      ]
    },
    {
      "cell_type": "code",
      "metadata": {
        "colab": {
          "base_uri": "https://localhost:8080/"
        },
        "id": "oFMg2aRrYLxZ",
        "outputId": "f17a36ea-3a57-48c5-b657-bd739ca88bcf"
      },
      "source": [
        "dados_ms.shape"
      ],
      "execution_count": 46,
      "outputs": [
        {
          "output_type": "execute_result",
          "data": {
            "text/plain": [
              "(366, 34)"
            ]
          },
          "metadata": {},
          "execution_count": 46
        }
      ]
    },
    {
      "cell_type": "code",
      "metadata": {
        "id": "VtASt4wNYNbN"
      },
      "source": [
        "dados_ms_limpo = dados_ms.drop_duplicates()"
      ],
      "execution_count": 47,
      "outputs": []
    },
    {
      "cell_type": "code",
      "metadata": {
        "colab": {
          "base_uri": "https://localhost:8080/"
        },
        "id": "-2w_QLaVYSgZ",
        "outputId": "db182266-8713-452b-d4da-62e103386221"
      },
      "source": [
        "dados_ms_limpo.shape"
      ],
      "execution_count": 48,
      "outputs": [
        {
          "output_type": "execute_result",
          "data": {
            "text/plain": [
              "(366, 34)"
            ]
          },
          "metadata": {},
          "execution_count": 48
        }
      ]
    },
    {
      "cell_type": "markdown",
      "metadata": {
        "id": "RNdV7OMeZN9E"
      },
      "source": [
        "# Selecionando as colunas que nos interessam"
      ]
    },
    {
      "cell_type": "code",
      "metadata": {
        "colab": {
          "base_uri": "https://localhost:8080/",
          "height": 117
        },
        "id": "LyWuVjtJYYIZ",
        "outputId": "c1224fff-5c09-430b-ee60-1f1e406b306a"
      },
      "source": [
        "dados_ms.head(1)"
      ],
      "execution_count": 49,
      "outputs": [
        {
          "output_type": "execute_result",
          "data": {
            "text/html": [
              "<div>\n",
              "<style scoped>\n",
              "    .dataframe tbody tr th:only-of-type {\n",
              "        vertical-align: middle;\n",
              "    }\n",
              "\n",
              "    .dataframe tbody tr th {\n",
              "        vertical-align: top;\n",
              "    }\n",
              "\n",
              "    .dataframe thead th {\n",
              "        text-align: right;\n",
              "    }\n",
              "</style>\n",
              "<table border=\"1\" class=\"dataframe\">\n",
              "  <thead>\n",
              "    <tr style=\"text-align: right;\">\n",
              "      <th></th>\n",
              "      <th>date</th>\n",
              "      <th>state</th>\n",
              "      <th>epidemiological_week_2019</th>\n",
              "      <th>epidemiological_week_2020</th>\n",
              "      <th>deaths_indeterminate_2019</th>\n",
              "      <th>deaths_respiratory_failure_2019</th>\n",
              "      <th>deaths_others_2019</th>\n",
              "      <th>deaths_pneumonia_2019</th>\n",
              "      <th>deaths_septicemia_2019</th>\n",
              "      <th>deaths_sars_2019</th>\n",
              "      <th>deaths_covid19</th>\n",
              "      <th>deaths_indeterminate_2020</th>\n",
              "      <th>deaths_respiratory_failure_2020</th>\n",
              "      <th>deaths_others_2020</th>\n",
              "      <th>deaths_pneumonia_2020</th>\n",
              "      <th>deaths_septicemia_2020</th>\n",
              "      <th>deaths_sars_2020</th>\n",
              "      <th>deaths_total_2019</th>\n",
              "      <th>deaths_total_2020</th>\n",
              "      <th>new_deaths_indeterminate_2019</th>\n",
              "      <th>new_deaths_respiratory_failure_2019</th>\n",
              "      <th>new_deaths_others_2019</th>\n",
              "      <th>new_deaths_pneumonia_2019</th>\n",
              "      <th>new_deaths_septicemia_2019</th>\n",
              "      <th>new_deaths_sars_2019</th>\n",
              "      <th>new_deaths_covid19</th>\n",
              "      <th>new_deaths_indeterminate_2020</th>\n",
              "      <th>new_deaths_respiratory_failure_2020</th>\n",
              "      <th>new_deaths_others_2020</th>\n",
              "      <th>new_deaths_pneumonia_2020</th>\n",
              "      <th>new_deaths_septicemia_2020</th>\n",
              "      <th>new_deaths_sars_2020</th>\n",
              "      <th>new_deaths_total_2019</th>\n",
              "      <th>new_deaths_total_2020</th>\n",
              "    </tr>\n",
              "  </thead>\n",
              "  <tbody>\n",
              "    <tr>\n",
              "      <th>4026</th>\n",
              "      <td>2020-01-01</td>\n",
              "      <td>MS</td>\n",
              "      <td>1</td>\n",
              "      <td>1</td>\n",
              "      <td>0</td>\n",
              "      <td>4</td>\n",
              "      <td>18</td>\n",
              "      <td>6</td>\n",
              "      <td>7</td>\n",
              "      <td>0</td>\n",
              "      <td>0</td>\n",
              "      <td>0</td>\n",
              "      <td>5</td>\n",
              "      <td>15</td>\n",
              "      <td>11</td>\n",
              "      <td>5</td>\n",
              "      <td>1</td>\n",
              "      <td>35</td>\n",
              "      <td>37</td>\n",
              "      <td>NaN</td>\n",
              "      <td>4.0</td>\n",
              "      <td>18.0</td>\n",
              "      <td>6.0</td>\n",
              "      <td>7.0</td>\n",
              "      <td>NaN</td>\n",
              "      <td>NaN</td>\n",
              "      <td>NaN</td>\n",
              "      <td>5.0</td>\n",
              "      <td>15.0</td>\n",
              "      <td>11.0</td>\n",
              "      <td>5.0</td>\n",
              "      <td>1.0</td>\n",
              "      <td>35</td>\n",
              "      <td>37</td>\n",
              "    </tr>\n",
              "  </tbody>\n",
              "</table>\n",
              "</div>"
            ],
            "text/plain": [
              "            date state  ...  new_deaths_total_2019  new_deaths_total_2020\n",
              "4026  2020-01-01    MS  ...                     35                     37\n",
              "\n",
              "[1 rows x 34 columns]"
            ]
          },
          "metadata": {},
          "execution_count": 49
        }
      ]
    },
    {
      "cell_type": "code",
      "metadata": {
        "colab": {
          "base_uri": "https://localhost:8080/",
          "height": 117
        },
        "id": "5WuIHl2Hc4nz",
        "outputId": "ebe0ebff-4be7-4bd5-f69c-72290725571d"
      },
      "source": [
        "dados_ms.tail(1)"
      ],
      "execution_count": 50,
      "outputs": [
        {
          "output_type": "execute_result",
          "data": {
            "text/html": [
              "<div>\n",
              "<style scoped>\n",
              "    .dataframe tbody tr th:only-of-type {\n",
              "        vertical-align: middle;\n",
              "    }\n",
              "\n",
              "    .dataframe tbody tr th {\n",
              "        vertical-align: top;\n",
              "    }\n",
              "\n",
              "    .dataframe thead th {\n",
              "        text-align: right;\n",
              "    }\n",
              "</style>\n",
              "<table border=\"1\" class=\"dataframe\">\n",
              "  <thead>\n",
              "    <tr style=\"text-align: right;\">\n",
              "      <th></th>\n",
              "      <th>date</th>\n",
              "      <th>state</th>\n",
              "      <th>epidemiological_week_2019</th>\n",
              "      <th>epidemiological_week_2020</th>\n",
              "      <th>deaths_indeterminate_2019</th>\n",
              "      <th>deaths_respiratory_failure_2019</th>\n",
              "      <th>deaths_others_2019</th>\n",
              "      <th>deaths_pneumonia_2019</th>\n",
              "      <th>deaths_septicemia_2019</th>\n",
              "      <th>deaths_sars_2019</th>\n",
              "      <th>deaths_covid19</th>\n",
              "      <th>deaths_indeterminate_2020</th>\n",
              "      <th>deaths_respiratory_failure_2020</th>\n",
              "      <th>deaths_others_2020</th>\n",
              "      <th>deaths_pneumonia_2020</th>\n",
              "      <th>deaths_septicemia_2020</th>\n",
              "      <th>deaths_sars_2020</th>\n",
              "      <th>deaths_total_2019</th>\n",
              "      <th>deaths_total_2020</th>\n",
              "      <th>new_deaths_indeterminate_2019</th>\n",
              "      <th>new_deaths_respiratory_failure_2019</th>\n",
              "      <th>new_deaths_others_2019</th>\n",
              "      <th>new_deaths_pneumonia_2019</th>\n",
              "      <th>new_deaths_septicemia_2019</th>\n",
              "      <th>new_deaths_sars_2019</th>\n",
              "      <th>new_deaths_covid19</th>\n",
              "      <th>new_deaths_indeterminate_2020</th>\n",
              "      <th>new_deaths_respiratory_failure_2020</th>\n",
              "      <th>new_deaths_others_2020</th>\n",
              "      <th>new_deaths_pneumonia_2020</th>\n",
              "      <th>new_deaths_septicemia_2020</th>\n",
              "      <th>new_deaths_sars_2020</th>\n",
              "      <th>new_deaths_total_2019</th>\n",
              "      <th>new_deaths_total_2020</th>\n",
              "    </tr>\n",
              "  </thead>\n",
              "  <tbody>\n",
              "    <tr>\n",
              "      <th>4391</th>\n",
              "      <td>2020-12-31</td>\n",
              "      <td>MS</td>\n",
              "      <td>1</td>\n",
              "      <td>53</td>\n",
              "      <td>78</td>\n",
              "      <td>1368</td>\n",
              "      <td>8076</td>\n",
              "      <td>3584</td>\n",
              "      <td>1889</td>\n",
              "      <td>43</td>\n",
              "      <td>2250</td>\n",
              "      <td>57</td>\n",
              "      <td>1366</td>\n",
              "      <td>8380</td>\n",
              "      <td>3107</td>\n",
              "      <td>1848</td>\n",
              "      <td>85</td>\n",
              "      <td>15038</td>\n",
              "      <td>17093</td>\n",
              "      <td>NaN</td>\n",
              "      <td>5.0</td>\n",
              "      <td>14.0</td>\n",
              "      <td>7.0</td>\n",
              "      <td>5.0</td>\n",
              "      <td>NaN</td>\n",
              "      <td>NaN</td>\n",
              "      <td>NaN</td>\n",
              "      <td>NaN</td>\n",
              "      <td>NaN</td>\n",
              "      <td>NaN</td>\n",
              "      <td>NaN</td>\n",
              "      <td>NaN</td>\n",
              "      <td>31</td>\n",
              "      <td>0</td>\n",
              "    </tr>\n",
              "  </tbody>\n",
              "</table>\n",
              "</div>"
            ],
            "text/plain": [
              "            date state  ...  new_deaths_total_2019  new_deaths_total_2020\n",
              "4391  2020-12-31    MS  ...                     31                      0\n",
              "\n",
              "[1 rows x 34 columns]"
            ]
          },
          "metadata": {},
          "execution_count": 50
        }
      ]
    },
    {
      "cell_type": "code",
      "metadata": {
        "id": "h2052BSDc4YN"
      },
      "source": [
        ""
      ],
      "execution_count": 50,
      "outputs": []
    },
    {
      "cell_type": "code",
      "metadata": {
        "colab": {
          "base_uri": "https://localhost:8080/"
        },
        "id": "oYjirXPPa1BW",
        "outputId": "fce35c3c-b0da-4e36-9f7b-fca939794e65"
      },
      "source": [
        "colunas = dados_ms.columns\n",
        "for coluna in colunas:\n",
        "    print(coluna)"
      ],
      "execution_count": 51,
      "outputs": [
        {
          "output_type": "stream",
          "name": "stdout",
          "text": [
            "date\n",
            "state\n",
            "epidemiological_week_2019\n",
            "epidemiological_week_2020\n",
            "deaths_indeterminate_2019\n",
            "deaths_respiratory_failure_2019\n",
            "deaths_others_2019\n",
            "deaths_pneumonia_2019\n",
            "deaths_septicemia_2019\n",
            "deaths_sars_2019\n",
            "deaths_covid19\n",
            "deaths_indeterminate_2020\n",
            "deaths_respiratory_failure_2020\n",
            "deaths_others_2020\n",
            "deaths_pneumonia_2020\n",
            "deaths_septicemia_2020\n",
            "deaths_sars_2020\n",
            "deaths_total_2019\n",
            "deaths_total_2020\n",
            "new_deaths_indeterminate_2019\n",
            "new_deaths_respiratory_failure_2019\n",
            "new_deaths_others_2019\n",
            "new_deaths_pneumonia_2019\n",
            "new_deaths_septicemia_2019\n",
            "new_deaths_sars_2019\n",
            "new_deaths_covid19\n",
            "new_deaths_indeterminate_2020\n",
            "new_deaths_respiratory_failure_2020\n",
            "new_deaths_others_2020\n",
            "new_deaths_pneumonia_2020\n",
            "new_deaths_septicemia_2020\n",
            "new_deaths_sars_2020\n",
            "new_deaths_total_2019\n",
            "new_deaths_total_2020\n"
          ]
        }
      ]
    },
    {
      "cell_type": "markdown",
      "metadata": {
        "id": "DfzXcmzgZYzD"
      },
      "source": [
        "## Colunas a Manter\n",
        "\n",
        "Caso deseje ver a explicação das colunas, acesse a [documentação oficial](https://github.com/turicas/covid19-br/blob/master/api.md#óbitos-registrados-em-cartório).\n",
        "\n",
        "\n"
      ]
    },
    {
      "cell_type": "code",
      "metadata": {
        "id": "wy5ZfO6KbAZx"
      },
      "source": [
        "lista_colunas = [\n",
        "                 'date',\n",
        "                 'state',\n",
        "                 'new_deaths_covid19',\n",
        "                 'deaths_covid19' ,\n",
        "                 'deaths_total_2020',\n",
        "\n",
        "]"
      ],
      "execution_count": 67,
      "outputs": []
    },
    {
      "cell_type": "code",
      "metadata": {
        "id": "UuWRtGbGcgjj"
      },
      "source": [
        "dados_ms_colunas_selecionadas = dados_ms[lista_colunas]"
      ],
      "execution_count": 68,
      "outputs": []
    },
    {
      "cell_type": "code",
      "metadata": {
        "colab": {
          "base_uri": "https://localhost:8080/",
          "height": 204
        },
        "id": "j2beux6tcopw",
        "outputId": "2a2e1c80-1486-4325-d0da-0d7513a9ae2f"
      },
      "source": [
        "dados_ms_colunas_selecionadas.head()"
      ],
      "execution_count": 69,
      "outputs": [
        {
          "output_type": "execute_result",
          "data": {
            "text/html": [
              "<div>\n",
              "<style scoped>\n",
              "    .dataframe tbody tr th:only-of-type {\n",
              "        vertical-align: middle;\n",
              "    }\n",
              "\n",
              "    .dataframe tbody tr th {\n",
              "        vertical-align: top;\n",
              "    }\n",
              "\n",
              "    .dataframe thead th {\n",
              "        text-align: right;\n",
              "    }\n",
              "</style>\n",
              "<table border=\"1\" class=\"dataframe\">\n",
              "  <thead>\n",
              "    <tr style=\"text-align: right;\">\n",
              "      <th></th>\n",
              "      <th>date</th>\n",
              "      <th>state</th>\n",
              "      <th>new_deaths_covid19</th>\n",
              "      <th>deaths_covid19</th>\n",
              "      <th>deaths_total_2020</th>\n",
              "    </tr>\n",
              "  </thead>\n",
              "  <tbody>\n",
              "    <tr>\n",
              "      <th>4026</th>\n",
              "      <td>2020-01-01</td>\n",
              "      <td>MS</td>\n",
              "      <td>NaN</td>\n",
              "      <td>0</td>\n",
              "      <td>37</td>\n",
              "    </tr>\n",
              "    <tr>\n",
              "      <th>4027</th>\n",
              "      <td>2020-01-02</td>\n",
              "      <td>MS</td>\n",
              "      <td>NaN</td>\n",
              "      <td>0</td>\n",
              "      <td>68</td>\n",
              "    </tr>\n",
              "    <tr>\n",
              "      <th>4028</th>\n",
              "      <td>2020-01-03</td>\n",
              "      <td>MS</td>\n",
              "      <td>NaN</td>\n",
              "      <td>0</td>\n",
              "      <td>107</td>\n",
              "    </tr>\n",
              "    <tr>\n",
              "      <th>4029</th>\n",
              "      <td>2020-01-04</td>\n",
              "      <td>MS</td>\n",
              "      <td>NaN</td>\n",
              "      <td>0</td>\n",
              "      <td>148</td>\n",
              "    </tr>\n",
              "    <tr>\n",
              "      <th>4030</th>\n",
              "      <td>2020-01-05</td>\n",
              "      <td>MS</td>\n",
              "      <td>NaN</td>\n",
              "      <td>0</td>\n",
              "      <td>184</td>\n",
              "    </tr>\n",
              "  </tbody>\n",
              "</table>\n",
              "</div>"
            ],
            "text/plain": [
              "            date state  new_deaths_covid19  deaths_covid19  deaths_total_2020\n",
              "4026  2020-01-01    MS                 NaN               0                 37\n",
              "4027  2020-01-02    MS                 NaN               0                 68\n",
              "4028  2020-01-03    MS                 NaN               0                107\n",
              "4029  2020-01-04    MS                 NaN               0                148\n",
              "4030  2020-01-05    MS                 NaN               0                184"
            ]
          },
          "metadata": {},
          "execution_count": 69
        }
      ]
    },
    {
      "cell_type": "code",
      "metadata": {
        "id": "UHfoe_g8c_tG"
      },
      "source": [
        "dados_ms_colunas_selecionadas.reset_index(drop=True, inplace=True)"
      ],
      "execution_count": 72,
      "outputs": []
    },
    {
      "cell_type": "code",
      "metadata": {
        "colab": {
          "base_uri": "https://localhost:8080/",
          "height": 204
        },
        "id": "2_sAKy9SdHyu",
        "outputId": "1397b318-b44c-4788-eddb-f22ec890f933"
      },
      "source": [
        "dados_ms_colunas_selecionadas.head()"
      ],
      "execution_count": 73,
      "outputs": [
        {
          "output_type": "execute_result",
          "data": {
            "text/html": [
              "<div>\n",
              "<style scoped>\n",
              "    .dataframe tbody tr th:only-of-type {\n",
              "        vertical-align: middle;\n",
              "    }\n",
              "\n",
              "    .dataframe tbody tr th {\n",
              "        vertical-align: top;\n",
              "    }\n",
              "\n",
              "    .dataframe thead th {\n",
              "        text-align: right;\n",
              "    }\n",
              "</style>\n",
              "<table border=\"1\" class=\"dataframe\">\n",
              "  <thead>\n",
              "    <tr style=\"text-align: right;\">\n",
              "      <th></th>\n",
              "      <th>date</th>\n",
              "      <th>state</th>\n",
              "      <th>new_deaths_covid19</th>\n",
              "      <th>deaths_covid19</th>\n",
              "      <th>deaths_total_2020</th>\n",
              "    </tr>\n",
              "  </thead>\n",
              "  <tbody>\n",
              "    <tr>\n",
              "      <th>0</th>\n",
              "      <td>2020-01-01</td>\n",
              "      <td>MS</td>\n",
              "      <td>NaN</td>\n",
              "      <td>0</td>\n",
              "      <td>37</td>\n",
              "    </tr>\n",
              "    <tr>\n",
              "      <th>1</th>\n",
              "      <td>2020-01-02</td>\n",
              "      <td>MS</td>\n",
              "      <td>NaN</td>\n",
              "      <td>0</td>\n",
              "      <td>68</td>\n",
              "    </tr>\n",
              "    <tr>\n",
              "      <th>2</th>\n",
              "      <td>2020-01-03</td>\n",
              "      <td>MS</td>\n",
              "      <td>NaN</td>\n",
              "      <td>0</td>\n",
              "      <td>107</td>\n",
              "    </tr>\n",
              "    <tr>\n",
              "      <th>3</th>\n",
              "      <td>2020-01-04</td>\n",
              "      <td>MS</td>\n",
              "      <td>NaN</td>\n",
              "      <td>0</td>\n",
              "      <td>148</td>\n",
              "    </tr>\n",
              "    <tr>\n",
              "      <th>4</th>\n",
              "      <td>2020-01-05</td>\n",
              "      <td>MS</td>\n",
              "      <td>NaN</td>\n",
              "      <td>0</td>\n",
              "      <td>184</td>\n",
              "    </tr>\n",
              "  </tbody>\n",
              "</table>\n",
              "</div>"
            ],
            "text/plain": [
              "         date state  new_deaths_covid19  deaths_covid19  deaths_total_2020\n",
              "0  2020-01-01    MS                 NaN               0                 37\n",
              "1  2020-01-02    MS                 NaN               0                 68\n",
              "2  2020-01-03    MS                 NaN               0                107\n",
              "3  2020-01-04    MS                 NaN               0                148\n",
              "4  2020-01-05    MS                 NaN               0                184"
            ]
          },
          "metadata": {},
          "execution_count": 73
        }
      ]
    },
    {
      "cell_type": "code",
      "metadata": {
        "id": "pMAJfKxriztg"
      },
      "source": [
        "dados_ms_colunas_selecionadas.to_csv('dados_tratados_ms_2020.csv')"
      ],
      "execution_count": 85,
      "outputs": []
    }
  ]
}